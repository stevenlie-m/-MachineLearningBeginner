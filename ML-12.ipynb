{
 "cells": [
  {
   "cell_type": "markdown",
   "id": "da92f21e",
   "metadata": {},
   "source": [
    "# Classification dengan Super Vector Machine"
   ]
  },
  {
   "cell_type": "markdown",
   "id": "a4f60fc3",
   "metadata": {},
   "source": [
    "## Catatan Penting"
   ]
  },
  {
   "cell_type": "markdown",
   "id": "6f122174",
   "metadata": {},
   "source": [
    "Decision Boundary\n",
    "\n",
    "Jika hanya terdapat 1 feature saja maka decision akan berupa titik (threshold)\n",
    "Jika terdapat 2 feature maka decision boundary akan berupa garis linear\n",
    "Jika terdapat 3 feature maka decision boundary akan berupa bidang datar (plane)\n",
    "\n",
    "Margin\n",
    "\n",
    "Margin ditentukan dari jarak terdekat dari decision boundary dengan anggota dari kelas yang ingin dipisahkan"
   ]
  },
  {
   "cell_type": "markdown",
   "id": "6184d583",
   "metadata": {},
   "source": [
    "# Dataset The MNIST database of handwritten digits"
   ]
  },
  {
   "cell_type": "code",
   "execution_count": null,
   "id": "88527213",
   "metadata": {},
   "outputs": [],
   "source": [
    "from sklearn.datasets import fetch_openml\n",
    "\n",
    "X,y = fetch_openml('mnist_784',data_home='./mnist',return_X_y=True)\n",
    "X.shape"
   ]
  }
 ],
 "metadata": {
  "kernelspec": {
   "display_name": "Python 3",
   "language": "python",
   "name": "python3"
  },
  "language_info": {
   "codemirror_mode": {
    "name": "ipython",
    "version": 3
   },
   "file_extension": ".py",
   "mimetype": "text/x-python",
   "name": "python",
   "nbconvert_exporter": "python",
   "pygments_lexer": "ipython3",
   "version": "3.8.8"
  }
 },
 "nbformat": 4,
 "nbformat_minor": 5
}
