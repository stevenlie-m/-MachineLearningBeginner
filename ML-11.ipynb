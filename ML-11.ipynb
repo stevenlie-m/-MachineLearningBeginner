{
 "cells": [
  {
   "cell_type": "markdown",
   "id": "3114a69e",
   "metadata": {},
   "source": [
    "# Classification Task dengan Naive Bayes"
   ]
  },
  {
   "cell_type": "markdown",
   "id": "994ad58a",
   "metadata": {},
   "source": [
    "## Bayes Theorem"
   ]
  },
  {
   "cell_type": "markdown",
   "id": "f78b8bc8",
   "metadata": {},
   "source": [
    "Bayes Theorem menawarkan suatu formula untuk menghitung nilai probability dari sebuah event dengan memanfaatkan pengetahuan sebelumnya dari kondisi sebelumnya"
   ]
  },
  {
   "cell_type": "markdown",
   "id": "5d0bf1fc",
   "metadata": {},
   "source": [
    "## Pengenalan Naive Bayes"
   ]
  },
  {
   "cell_type": "markdown",
   "id": "6edd330a",
   "metadata": {},
   "source": [
    "Studi Kasus Di sebuah warung terdapat dua pelanggan dengan probabilitas pemesanan menu di bawah ini : Asep siomay : 0.1 bakso : 0.8 lumpia : 0.1 Joko siomay : 0.5 bakso : 0.2 lumpia : 0.3 Misi : lakukan prediksi pelanggan dengan pemesanan menu lumpia dan bakso"
   ]
  },
  {
   "cell_type": "markdown",
   "id": "ddffd001",
   "metadata": {},
   "source": [
    "### Prior probability"
   ]
  },
  {
   "cell_type": "markdown",
   "id": "6f7632dc",
   "metadata": {},
   "source": [
    "P(Asep) = 0.5 P(Joko) = 0.5"
   ]
  },
  {
   "cell_type": "markdown",
   "id": "89c922bf",
   "metadata": {},
   "source": [
    "### Likelihood"
   ]
  },
  {
   "cell_type": "markdown",
   "id": "8b9b7f66",
   "metadata": {},
   "source": [
    "Asep P(lumpia,bakso|asep) : 0.1 x 0.8 : 0.08 Joko P(lumpia,bakso|joko) : 0.3 x 0.2 : 0.06"
   ]
  },
  {
   "cell_type": "markdown",
   "id": "3cb7a85a",
   "metadata": {},
   "source": [
    "### Evidence"
   ]
  },
  {
   "cell_type": "markdown",
   "id": "95b124c2",
   "metadata": {},
   "source": [
    "Evidence = Likelihood Prior = (0.08 0.5) + (0.06*5) = 0.07"
   ]
  },
  {
   "cell_type": "markdown",
   "id": "d261e2e0",
   "metadata": {},
   "source": [
    "### Posterior Probability"
   ]
  },
  {
   "cell_type": "markdown",
   "id": "0eb46382",
   "metadata": {},
   "source": [
    "Posterior = Likelihood * Prior/ Evidence"
   ]
  },
  {
   "cell_type": "code",
   "execution_count": null,
   "id": "9c4956cc",
   "metadata": {},
   "outputs": [],
   "source": []
  }
 ],
 "metadata": {
  "kernelspec": {
   "display_name": "Python 3",
   "language": "python",
   "name": "python3"
  },
  "language_info": {
   "codemirror_mode": {
    "name": "ipython",
    "version": 3
   },
   "file_extension": ".py",
   "mimetype": "text/x-python",
   "name": "python",
   "nbconvert_exporter": "python",
   "pygments_lexer": "ipython3",
   "version": "3.8.8"
  }
 },
 "nbformat": 4,
 "nbformat_minor": 5
}
